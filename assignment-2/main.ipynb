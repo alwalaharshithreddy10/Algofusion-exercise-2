{
 "cells": [
  {
   "cell_type": "code",
   "execution_count": null,
   "id": "8b2958b3",
   "metadata": {},
   "outputs": [],
   "source": []
  },
  {
   "cell_type": "code",
   "execution_count": 1,
   "id": "cedc97fa",
   "metadata": {},
   "outputs": [
    {
     "name": "stdout",
     "output_type": "stream",
     "text": [
      "Text without punctuation: Funding for groundbreaking research in renewable energy has been approved A team of dedicated researchers successfully developed a new solar cell technology that significantly boosts efficiency This innovation could revolutionize the solar energy industry making it more sustainable and cleaner The technology is expected to be available commercially within the next few years and it will play a crucial role in the adoption of renewable energy worldwide\n",
      "Words in the text: ['Funding', 'for', 'groundbreaking', 'research', 'in', 'renewable', 'energy', 'has', 'been', 'approved.', 'A', 'team', 'of', 'dedicated', 'researchers', 'successfully', 'developed', 'a', 'new', 'solar', 'cell', 'technology', 'that', 'significantly', 'boosts', 'efficiency.', 'This', 'innovation', 'could', 'revolutionize', 'the', 'solar', 'energy', 'industry,', 'making', 'it', 'more', 'sustainable', 'and', 'cleaner.', 'The', 'technology', 'is', 'expected', 'to', 'be', 'available', 'commercially', 'within', 'the', 'next', 'few', 'years,', 'and', 'it', 'will', 'play', 'a', 'crucial', 'role', 'in', 'the', 'adoption', 'of', 'renewable', 'energy', 'worldwide.']\n",
      "Word count: {'Funding': 1, 'for': 1, 'groundbreaking': 1, 'research': 1, 'in': 2, 'renewable': 2, 'energy': 3, 'has': 1, 'been': 1, 'approved.': 1, 'A': 1, 'team': 1, 'of': 2, 'dedicated': 1, 'researchers': 1, 'successfully': 1, 'developed': 1, 'a': 2, 'new': 1, 'solar': 2, 'cell': 1, 'technology': 2, 'that': 1, 'significantly': 1, 'boosts': 1, 'efficiency.': 1, 'This': 1, 'innovation': 1, 'could': 1, 'revolutionize': 1, 'the': 3, 'industry,': 1, 'making': 1, 'it': 2, 'more': 1, 'sustainable': 1, 'and': 2, 'cleaner.': 1, 'The': 1, 'is': 1, 'expected': 1, 'to': 1, 'be': 1, 'available': 1, 'commercially': 1, 'within': 1, 'next': 1, 'few': 1, 'years,': 1, 'will': 1, 'play': 1, 'crucial': 1, 'role': 1, 'adoption': 1, 'worldwide.': 1}\n",
      "              word  No of occurrences\n",
      "0          Funding                  1\n",
      "1              for                  1\n",
      "2   groundbreaking                  1\n",
      "3         research                  1\n",
      "4               in                  2\n",
      "5        renewable                  2\n",
      "6           energy                  3\n",
      "7              has                  1\n",
      "8             been                  1\n",
      "9        approved.                  1\n",
      "10               A                  1\n",
      "11            team                  1\n",
      "12              of                  2\n",
      "13       dedicated                  1\n",
      "14     researchers                  1\n",
      "15    successfully                  1\n",
      "16       developed                  1\n",
      "17               a                  2\n",
      "18             new                  1\n",
      "19           solar                  2\n",
      "20            cell                  1\n",
      "21      technology                  2\n",
      "22            that                  1\n",
      "23   significantly                  1\n",
      "24          boosts                  1\n",
      "25     efficiency.                  1\n",
      "26            This                  1\n",
      "27      innovation                  1\n",
      "28           could                  1\n",
      "29   revolutionize                  1\n",
      "30             the                  3\n",
      "31       industry,                  1\n",
      "32          making                  1\n",
      "33              it                  2\n",
      "34            more                  1\n",
      "35     sustainable                  1\n",
      "36             and                  2\n",
      "37        cleaner.                  1\n",
      "38             The                  1\n",
      "39              is                  1\n",
      "40        expected                  1\n",
      "41              to                  1\n",
      "42              be                  1\n",
      "43       available                  1\n",
      "44    commercially                  1\n",
      "45          within                  1\n",
      "46            next                  1\n",
      "47             few                  1\n",
      "48          years,                  1\n",
      "49            will                  1\n",
      "50            play                  1\n",
      "51         crucial                  1\n",
      "52            role                  1\n",
      "53        adoption                  1\n",
      "54      worldwide.                  1\n"
     ]
    }
   ],
   "source": [
    "# main.py\n",
    "\n",
    "import word_count\n",
    "\n",
    "if __name__ == \"__main__\":\n",
    "    \n",
    "    input_text = \"Funding for groundbreaking research in renewable energy has been approved. A team of dedicated researchers successfully developed a new solar cell technology that significantly boosts efficiency. This innovation could revolutionize the solar energy industry, making it more sustainable and cleaner. The technology is expected to be available commercially within the next few years, and it will play a crucial role in the adoption of renewable energy worldwide.\"\n",
    "\n",
    "    # Removing punctuation\n",
    "    text_without_punc = word_count.remove_punc(input_text)\n",
    "    print(\"Text without punctuation:\", text_without_punc)\n",
    "\n",
    "    # Splitting the text into words\n",
    "    words = word_count.word_split(input_text)\n",
    "    print(\"Words in the text:\", words)\n",
    "\n",
    "    # Counting the number of words\n",
    "    word_count_result = word_count.word_dict(words)\n",
    "    print(\"Word count:\", word_count_result)\n",
    "    \n",
    "    # Creating the dataframe \n",
    "    df = word_count.word_freq_table(word_count_result)\n",
    "    print(df)\n"
   ]
  },
  {
   "cell_type": "code",
   "execution_count": null,
   "id": "f269e44d",
   "metadata": {},
   "outputs": [],
   "source": []
  },
  {
   "cell_type": "code",
   "execution_count": null,
   "id": "9dc172cf",
   "metadata": {},
   "outputs": [],
   "source": []
  },
  {
   "cell_type": "code",
   "execution_count": null,
   "id": "79df8781",
   "metadata": {},
   "outputs": [],
   "source": []
  }
 ],
 "metadata": {
  "kernelspec": {
   "display_name": "Python 3 (ipykernel)",
   "language": "python",
   "name": "python3"
  },
  "language_info": {
   "codemirror_mode": {
    "name": "ipython",
    "version": 3
   },
   "file_extension": ".py",
   "mimetype": "text/x-python",
   "name": "python",
   "nbconvert_exporter": "python",
   "pygments_lexer": "ipython3",
   "version": "3.10.9"
  }
 },
 "nbformat": 4,
 "nbformat_minor": 5
}
